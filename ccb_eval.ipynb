{
 "cells": [
  {
   "cell_type": "markdown",
   "metadata": {},
   "source": [
    "# Infra"
   ]
  },
  {
   "cell_type": "code",
   "execution_count": 3,
   "metadata": {},
   "outputs": [],
   "source": [
    "from estimators.ccb import pdis_cressieread\n",
    "import numpy as np\n",
    "import pandas as pd\n",
    "import random\n",
    "import datetime\n",
    "\n",
    "import matplotlib.pyplot as plt\n",
    "\n",
    "\n",
    "class EpsilonGreedy:\n",
    "    def __init__(self, epsilon):\n",
    "        self.epsilon = epsilon\n",
    "\n",
    "    def explore(self, n):\n",
    "        return self.epsilon / n\n",
    "\n",
    "    def exploit(self, n):\n",
    "        return self.epsilon / n + 1 - self.epsilon\n",
    "\n",
    "\n",
    "class CcbSimulation(pd.DataFrame):\n",
    "    def __init__(self, traffic: list, n_policies, reward_scale):\n",
    "        slots = []\n",
    "        traffic_pmf = [t[0] for t in traffic]\n",
    "        t = datetime.datetime(2022,1,1,0,0,0)\n",
    "        session=0\n",
    "        for n, policy in n_policies:\n",
    "            for _ in range(n):\n",
    "                t += datetime.timedelta(minutes=1)\n",
    "                traffic_idx = np.random.choice(range(len(traffic_pmf)), p=traffic_pmf)\n",
    "                rewards = traffic[traffic_idx][1]\n",
    "                nslots = len(rewards)\n",
    "                state = policy\n",
    "                session += 1\n",
    "                for j in range(nslots):\n",
    "                    id_pmf = [(k, v[0]) for k, v in state.items()]\n",
    "                    pmf = [v for _, v in id_pmf]\n",
    "                    chosen_idx = np.random.choice(range(len(pmf)), p=pmf)\n",
    "                    chosen = id_pmf[chosen_idx][0]\n",
    "                    state = state[chosen][1]\n",
    "                    r = int(random.random() < rewards[j][chosen]) * reward_scale\n",
    "                    slots.append({'t': t, 'session': session, 'slot': j, 'p_log': pmf[chosen_idx], 'r': r, 'chosen': chosen, 'chosen_idx': chosen_idx})\n",
    "        super().__init__(slots)\n",
    "\n",
    "    def predict(self, policy):\n",
    "        p_pred = []\n",
    "        for _, e in self.sessions.iterrows():\n",
    "            state = policy\n",
    "            for i in range(len(e['p_log'])):\n",
    "                id_pmf = {k: v[0] for k, v in state.items()}\n",
    "                chosen = e['chosen'][i]\n",
    "                p_pred.append(id_pmf[chosen])\n",
    "                state = state[chosen][1]\n",
    "        self['p_pred'] = p_pred\n",
    "\n",
    "    def cfe(self, window):\n",
    "        def init_estimator(**kwargs):\n",
    "            result = pdis_cressieread.Estimator()\n",
    "            result.add_example(**kwargs)\n",
    "            return result\n",
    "        result = pd.DataFrame()\n",
    "        result['estimator'] = self.sessions.set_index('t').apply(lambda row: init_estimator(p_logs=row['p_log'], rs=row['r'], p_preds=row['p_pred']), axis=1)\n",
    "        result = result.resample(window).sum()\n",
    "        r = result.apply(lambda row: row['estimator'].get(), axis=1)\n",
    "        nslots = self['slot'].max() + 1\n",
    "        for i in range(nslots):\n",
    "            result[f'r[{i}]'] = r.str[i]\n",
    "        return result\n",
    "    \n",
    "    @property\n",
    "    def sessions(self):\n",
    "        agg = {'t': 'first', 'p_log': list, 'r': list, 'chosen': list, 'chosen_idx': list}\n",
    "        if 'p_pred' in self.columns:\n",
    "            agg['p_pred'] = list\n",
    "        return self.groupby('session').agg(agg)\n"
   ]
  },
  {
   "cell_type": "markdown",
   "metadata": {},
   "source": [
    "# Simulation"
   ]
  },
  {
   "cell_type": "code",
   "execution_count": 4,
   "metadata": {},
   "outputs": [],
   "source": [
    "epsilon = 0.05\n",
    "\n",
    "# sclalar for all reward values\n",
    "reward_scale = 0.01\n",
    "\n",
    "rewards = np.array([\n",
    "    [0.6, 0.8, 0],\n",
    "    [0.8, 0.6, 0]])\n",
    "\n",
    "traffic = [(1, rewards)] # 100% percent of traffic is based on rewards matrix (#actions x #slots matrix of bernoullly parameters)\n",
    "\n",
    "eg = EpsilonGreedy(epsilon)\n",
    "\n",
    "# policy 01, preferring to play action 0 on first slot and action 1 on second slot\n",
    "epsilon_greedy_01 = {\n",
    "    0: (eg.exploit(3), {               \n",
    "        1: (eg.exploit(2), {}),        \n",
    "        2: (eg.explore(2), {}),        \n",
    "    }),\n",
    "    1: (eg.explore(3), {               \n",
    "        0: (0.5, {}),        \n",
    "        2: (0.5, {}),        \n",
    "    }),\n",
    "    2: (eg.explore(3), {               \n",
    "        0: (0.5, {}),        \n",
    "        1: (0.5, {}),        \n",
    "    })\n",
    "}\n",
    "\n",
    "# policy 10, preferring to play action 1 on first slot, and action 0 on second slot\n",
    "epsilon_greedy_10 = {\n",
    "    0: (eg.explore(3), {               \n",
    "        1: (0.5, {}),        \n",
    "        2: (0.5, {}),        \n",
    "    }),\n",
    "    1: (eg.exploit(3), {               \n",
    "        0: (eg.exploit(2), {}),        \n",
    "        2: (eg.explore(2), {}),        \n",
    "    }),\n",
    "    2: (eg.explore(3), {               \n",
    "        0: (0.5, {}),        \n",
    "        1: (0.5, {}),        \n",
    "    })\n",
    "}\n",
    "\n",
    "n = 100000\n",
    "\n",
    "# simulate us making first n decisions using policy 01 and then n decisions using policy 10\n",
    "logs_cfe = CcbSimulation(traffic, [(n, epsilon_greedy_01), (n, epsilon_greedy_10)], reward_scale=reward_scale)\n",
    "# generate p_preds for 01 policy\n",
    "logs_cfe.predict(epsilon_greedy_01)\n",
    "# do cfe\n",
    "cfe = logs_cfe.cfe(window='12h')\n",
    "\n",
    "# simulate us making all decisions using policy 01\n",
    "logs_sim = CcbSimulation(traffic, [(2 * n, epsilon_greedy_01)], reward_scale=reward_scale)"
   ]
  },
  {
   "cell_type": "markdown",
   "metadata": {},
   "source": [
    "# Visualize"
   ]
  },
  {
   "cell_type": "code",
   "execution_count": 5,
   "metadata": {},
   "outputs": [
    {
     "data": {
      "text/plain": [
       "<matplotlib.legend.Legend at 0x222f3312f80>"
      ]
     },
     "execution_count": 5,
     "metadata": {},
     "output_type": "execute_result"
    },
    {
     "data": {
      "image/png": "[encoded data removed]",
      "text/plain": [
       "<Figure size 1152x432 with 1 Axes>"
      ]
     },
     "metadata": {
      "needs_background": "light"
     },
     "output_type": "display_data"
    }
   ],
   "source": [
    "window='14d'\n",
    "\n",
    "cfe['r[1]'].rolling(window=window).mean().plot(label='cfe', figsize=[16,6])\n",
    "sim = logs_sim.set_index('t')\n",
    "sim[sim.slot==1]['r'].rolling(window=window).mean().plot(label='simulation', figsize=[16,6])\n",
    "plt.legend()"
   ]
  },
  {
   "cell_type": "code",
   "execution_count": null,
   "metadata": {},
   "outputs": [],
   "source": []
  }
 ],
 "metadata": {
  "interpreter": {
   "hash": "5933df87b58da62722933a54361a5e2c2428cb77aebbacbae5d6a99aa76a09d0"
  },
  "kernelspec": {
   "display_name": "Python 3.10.4 64-bit (windows store)",
   "language": "python",
   "name": "python3"
  },
  "language_info": {
   "codemirror_mode": {
    "name": "ipython",
    "version": 3
   },
   "file_extension": ".py",
   "mimetype": "text/x-python",
   "name": "python",
   "nbconvert_exporter": "python",
   "pygments_lexer": "ipython3",
   "version": "3.10.4"
  },
  "orig_nbformat": 4
 },
 "nbformat": 4,
 "nbformat_minor": 2
}
